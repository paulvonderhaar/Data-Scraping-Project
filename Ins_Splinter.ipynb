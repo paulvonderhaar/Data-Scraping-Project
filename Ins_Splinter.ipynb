{
 "cells": [
  {
   "cell_type": "code",
   "execution_count": 1,
   "metadata": {},
   "outputs": [],
   "source": [
    "from splinter import Browser\n",
    "from bs4 import BeautifulSoup"
   ]
  },
  {
   "cell_type": "markdown",
   "metadata": {},
   "source": [
    "# Mac Users"
   ]
  },
  {
   "cell_type": "code",
   "execution_count": null,
   "metadata": {},
   "outputs": [],
   "source": []
  },
  {
   "cell_type": "code",
   "execution_count": null,
   "metadata": {},
   "outputs": [],
   "source": []
  },
  {
   "cell_type": "markdown",
   "metadata": {},
   "source": [
    "# Windows Users"
   ]
  },
  {
   "cell_type": "code",
   "execution_count": 2,
   "metadata": {},
   "outputs": [],
   "source": [
    " executable_path = {'executable_path': 'chromedriver.exe'}\n",
    " browser = Browser('chrome', **executable_path, headless=False)"
   ]
  },
  {
   "cell_type": "code",
   "execution_count": 87,
   "metadata": {},
   "outputs": [],
   "source": [
    "url = 'https://www.heb.com/category/shop/fruit-vegetables/vegetables/olives/490083/490352'\n",
    "browser.visit(url)"
   ]
  },
  {
   "cell_type": "code",
   "execution_count": 88,
   "metadata": {},
   "outputs": [],
   "source": [
    "html = browser.html\n",
    "soup = BeautifulSoup(html, 'html.parser')\n",
    "a=soup.findAll(True)"
   ]
  },
  {
   "cell_type": "code",
   "execution_count": 89,
   "metadata": {},
   "outputs": [],
   "source": [
    "c=soup.findAll('span',class_=\"responsivegriditem__title\")\n",
    "d=soup.findAll('span',class_=\"cat-price-number\")\n",
    "e=soup.findAll('span',class_=\"uomSalePrice\")\n"
   ]
  },
  {
   "cell_type": "code",
   "execution_count": 90,
   "metadata": {},
   "outputs": [],
   "source": [
    "name=[]\n",
    "unitSize=[]\n",
    "for line in c:\n",
    "    temp=(line.text.split(','))\n",
    "    nametemp=temp[0].strip()\n",
    "    name.append('\\''+nametemp.replace(\" \",\"\")+'\\'')\n",
    "    unitSize.append('\\''+temp[1].replace(\" \",\"\")+'\\'')\n",
    "    "
   ]
  },
  {
   "cell_type": "code",
   "execution_count": 91,
   "metadata": {},
   "outputs": [
    {
     "name": "stdout",
     "output_type": "stream",
     "text": [
      "8\n"
     ]
    }
   ],
   "source": [
    "count=0\n",
    "price=[]\n",
    "for line in d:\n",
    "    temp=(line.text.split())\n",
    "    price.append('\\''+temp[0]+'\\'')\n",
    "    count+=1\n",
    "print(count)\n"
   ]
  },
  {
   "cell_type": "markdown",
   "metadata": {},
   "source": []
  },
  {
   "cell_type": "code",
   "execution_count": null,
   "metadata": {},
   "outputs": [],
   "source": []
  },
  {
   "cell_type": "code",
   "execution_count": 8,
   "metadata": {},
   "outputs": [],
   "source": [
    "from sqlalchemy import create_engine"
   ]
  },
  {
   "cell_type": "code",
   "execution_count": 9,
   "metadata": {},
   "outputs": [],
   "source": [
    "user = \"postgres\"\n",
    "password = \"changeme\"\n",
    "host = \"localhost\"\n",
    "port = \"5432\" # 5432 for everyone else\n",
    "db = \"Grocery\"\n",
    "uri = f\"postgresql+psycopg2://{user}:{password}@{host}:{port}/{db}\""
   ]
  },
  {
   "cell_type": "code",
   "execution_count": 10,
   "metadata": {},
   "outputs": [],
   "source": [
    "engine = create_engine(uri)"
   ]
  },
  {
   "cell_type": "code",
   "execution_count": 85,
   "metadata": {},
   "outputs": [
    {
     "data": {
      "text/plain": [
       "<sqlalchemy.engine.result.ResultProxy at 0x754fcf0>"
      ]
     },
     "execution_count": 85,
     "metadata": {},
     "output_type": "execute_result"
    }
   ],
   "source": [
    "engine.execute('create table heb(product_name text, unit_size text, total_cost text)')"
   ]
  },
  {
   "cell_type": "code",
   "execution_count": 92,
   "metadata": {},
   "outputs": [
    {
     "name": "stdout",
     "output_type": "stream",
     "text": [
      "Insert into HEB VALUES('CastellaKalamataPittedExtraLargeSeasonedGreekDeliOlives','12oz','$2.98')\n",
      "Insert into HEB VALUES('CastellaFetaSalad','Avg.0.6lb','$5.39')\n",
      "Insert into HEB VALUES('CastellaOliveMedleyDeliCup','12oz','$2.98')\n",
      "Insert into HEB VALUES('CastellaOliveMedleyPitted','lb','$8.99/lb')\n",
      "Insert into HEB VALUES('CastellaJumboKalamataOlives','Pitted','$5.39')\n",
      "Insert into HEB VALUES('CastellaGreekKalamataOlives','lb','$8.99')\n",
      "Insert into HEB VALUES('CastellaMediterraneanOliveMedley','lb','$8.99')\n",
      "Insert into HEB VALUES('FreshOlives','LB','$1.99/lb')\n"
     ]
    }
   ],
   "source": [
    "for i in range(len(name)):\n",
    "    command=\"Insert into HEB VALUES(\"+name[i]+\",\"+unitSize[i]+\",\"+price[i]+\")\"\n",
    "    print(command)\n",
    "    engine.execute(command)"
   ]
  },
  {
   "cell_type": "code",
   "execution_count": 84,
   "metadata": {},
   "outputs": [
    {
     "data": {
      "text/plain": [
       "<sqlalchemy.engine.result.ResultProxy at 0xac1950>"
      ]
     },
     "execution_count": 84,
     "metadata": {},
     "output_type": "execute_result"
    }
   ],
   "source": [
    "engine.execute(\"Drop table HEB\")"
   ]
  },
  {
   "cell_type": "code",
   "execution_count": null,
   "metadata": {},
   "outputs": [],
   "source": [
    "p"
   ]
  }
 ],
 "metadata": {
  "kernelspec": {
   "display_name": "Python 3",
   "language": "python",
   "name": "python3"
  },
  "language_info": {
   "codemirror_mode": {
    "name": "ipython",
    "version": 3
   },
   "file_extension": ".py",
   "mimetype": "text/x-python",
   "name": "python",
   "nbconvert_exporter": "python",
   "pygments_lexer": "ipython3",
   "version": "3.7.4"
  },
  "varInspector": {
   "cols": {
    "lenName": 16,
    "lenType": 16,
    "lenVar": 40
   },
   "kernels_config": {
    "python": {
     "delete_cmd_postfix": "",
     "delete_cmd_prefix": "del ",
     "library": "var_list.py",
     "varRefreshCmd": "print(var_dic_list())"
    },
    "r": {
     "delete_cmd_postfix": ") ",
     "delete_cmd_prefix": "rm(",
     "library": "var_list.r",
     "varRefreshCmd": "cat(var_dic_list()) "
    }
   },
   "types_to_exclude": [
    "module",
    "function",
    "builtin_function_or_method",
    "instance",
    "_Feature"
   ],
   "window_display": false
  }
 },
 "nbformat": 4,
 "nbformat_minor": 2
}
